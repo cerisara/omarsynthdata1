{
 "cells": [
  {
   "cell_type": "code",
   "execution_count": 3,
   "id": "9091a50f",
   "metadata": {},
   "outputs": [
    {
     "name": "stdout",
     "output_type": "stream",
     "text": [
      "Requirement already satisfied: regex in c:\\users\\chrif\\downloads\\synthdata1\\.venv\\lib\\site-packages (2025.9.1)\n"
     ]
    }
   ],
   "source": [
    "!pip install regex"
   ]
  },
  {
   "cell_type": "code",
   "execution_count": null,
   "id": "a1c81270",
   "metadata": {},
   "outputs": [],
   "source": [
    "import os\n",
    "numero_experience=6\n",
    "#créer dossier DATASET+numero_experience\n",
    "os.makedirs('DATASET'+str(numero_experience), exist_ok=True)"
   ]
  },
  {
   "cell_type": "code",
   "execution_count": 3,
   "id": "05b5665b",
   "metadata": {},
   "outputs": [],
   "source": [
    "import csv\n",
    "import re\n",
    "numero_experience=6\n",
    "\n",
    "\n",
    "for numero in range(0,6):\n",
    "    with open('C:/Users/chrif/Downloads/synthdata1/DATASET'+str(numero_experience)+'/results_openrouter_intent_'+str(numero)+'.txt', 'r',encoding=\"utf-8\",errors='replace') as f:\n",
    "        lines = [line.strip() for line in f]\n",
    "\n",
    "    with open('C:/Users/chrif/Downloads/synthdata1/DATASET6/final.csv', 'a+', newline='', encoding='utf-8',errors='replace') as f:\n",
    "        writer = csv.writer(f, quoting=csv.QUOTE_MINIMAL)\n",
    "        #writer.writerow(['label', 'text']) only first time  \n",
    "        for line in lines:\n",
    "            if line and re.search(r'@@CITATION', line):\n",
    "                cleaned = re.sub(r'^\\d+\\.\\s*(?:[A-Z\\s]+:\\s*)?', '', line, flags=re.MULTILINE)\n",
    "                writer.writerow([numero, cleaned])\n",
    "\n",
    "#il faut rajouter la colonne label et text tout en haut du fichier."
   ]
  },
  {
   "cell_type": "code",
   "execution_count": null,
   "id": "78e383d3",
   "metadata": {},
   "outputs": [],
   "source": []
  }
 ],
 "metadata": {
  "kernelspec": {
   "display_name": "Python 3 (ipykernel)",
   "language": "python",
   "name": "python3"
  },
  "language_info": {
   "codemirror_mode": {
    "name": "ipython",
    "version": 3
   },
   "file_extension": ".py",
   "mimetype": "text/x-python",
   "name": "python",
   "nbconvert_exporter": "python",
   "pygments_lexer": "ipython3",
   "version": "3.12.3"
  }
 },
 "nbformat": 4,
 "nbformat_minor": 5
}
