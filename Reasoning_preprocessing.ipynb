{
 "cells": [
  {
   "cell_type": "code",
   "execution_count": 2,
   "id": "61998122",
   "metadata": {},
   "outputs": [],
   "source": [
    "import json\n",
    "with open ('dico.json', 'r', encoding='utf-8') as f:\n",
    "    data = json.load(f)"
   ]
  },
  {
   "cell_type": "code",
   "execution_count": 12,
   "id": "05291779",
   "metadata": {},
   "outputs": [
    {
     "name": "stdout",
     "output_type": "stream",
     "text": [
      "5\n"
     ]
    }
   ],
   "source": [
    "print(len(data['5']))"
   ]
  },
  {
   "cell_type": "code",
   "execution_count": 23,
   "id": "6f1cc834",
   "metadata": {},
   "outputs": [],
   "source": [
    "import re\n",
    "results = []\n",
    "for classe in data:\n",
    "    for elt in data[classe]:\n",
    "        content = elt['choices'][0]['message']['content']\n",
    "        resultat_elt=[-1]\n",
    "        for character in content:\n",
    "            if character.isdigit():\n",
    "                resultat_elt.append(character)\n",
    "        results.append(resultat_elt[-1])"
   ]
  },
  {
   "cell_type": "code",
   "execution_count": 26,
   "id": "37d9732a",
   "metadata": {},
   "outputs": [
    {
     "name": "stderr",
     "output_type": "stream",
     "text": [
      "c:\\Users\\chrif\\Downloads\\synthdata1\\.venv\\Lib\\site-packages\\tqdm\\auto.py:21: TqdmWarning: IProgress not found. Please update jupyter and ipywidgets. See https://ipywidgets.readthedocs.io/en/stable/user_install.html\n",
      "  from .autonotebook import tqdm as notebook_tqdm\n"
     ]
    }
   ],
   "source": [
    "from datasets import load_dataset\n",
    "ds = load_dataset(\"hrithikpiyush/acl-arc\")\n",
    "ds.set_format(\"pandas\")\n",
    "train=ds[\"train\"][:]\n",
    "validation=ds[\"validation\"][:]\n",
    "test=ds[\"test\"][:]"
   ]
  },
  {
   "cell_type": "code",
   "execution_count": 30,
   "id": "7ee79d88",
   "metadata": {},
   "outputs": [
    {
     "data": {
      "text/plain": [
       "['3',\n",
       " '1',\n",
       " '0',\n",
       " '5',\n",
       " '3',\n",
       " '0',\n",
       " '1',\n",
       " '4',\n",
       " '4',\n",
       " '4',\n",
       " '0',\n",
       " '5',\n",
       " '4',\n",
       " '6',\n",
       " '0',\n",
       " '3',\n",
       " '0',\n",
       " '4',\n",
       " '4',\n",
       " '4',\n",
       " '1',\n",
       " '1',\n",
       " '5',\n",
       " -1,\n",
       " '4',\n",
       " '4',\n",
       " '4',\n",
       " '4',\n",
       " '0',\n",
       " '4',\n",
       " '4',\n",
       " '1',\n",
       " '0',\n",
       " '1',\n",
       " '3',\n",
       " '4',\n",
       " -1,\n",
       " '6',\n",
       " '5',\n",
       " '5',\n",
       " '4',\n",
       " '5',\n",
       " '0',\n",
       " '5',\n",
       " -1,\n",
       " '4',\n",
       " '1',\n",
       " '4',\n",
       " '3',\n",
       " '5',\n",
       " '1',\n",
       " '0',\n",
       " '5',\n",
       " '4',\n",
       " '3',\n",
       " '4',\n",
       " '1',\n",
       " '3',\n",
       " '4',\n",
       " '5',\n",
       " '0',\n",
       " '4',\n",
       " '0',\n",
       " '0',\n",
       " '5',\n",
       " '0',\n",
       " '0',\n",
       " '5',\n",
       " '0',\n",
       " '0',\n",
       " '1',\n",
       " '4',\n",
       " '0',\n",
       " '2',\n",
       " '5',\n",
       " '0',\n",
       " '2',\n",
       " -1,\n",
       " '4',\n",
       " '3',\n",
       " '5',\n",
       " '4',\n",
       " -1,\n",
       " '2',\n",
       " '2',\n",
       " '1',\n",
       " -1,\n",
       " '4',\n",
       " '4',\n",
       " '1',\n",
       " '0',\n",
       " '1',\n",
       " '3',\n",
       " '1',\n",
       " '3',\n",
       " '3',\n",
       " '3',\n",
       " '3',\n",
       " '5',\n",
       " '1',\n",
       " '4',\n",
       " '5',\n",
       " '3',\n",
       " '6',\n",
       " '4',\n",
       " '4',\n",
       " '4',\n",
       " '5',\n",
       " '4',\n",
       " '4',\n",
       " '0',\n",
       " '2',\n",
       " '4',\n",
       " '4',\n",
       " '1',\n",
       " '4',\n",
       " '0',\n",
       " '0',\n",
       " '5',\n",
       " '5',\n",
       " -1,\n",
       " '1',\n",
       " '3',\n",
       " -1,\n",
       " '0',\n",
       " '5',\n",
       " '1',\n",
       " '1',\n",
       " '3',\n",
       " '0',\n",
       " '5',\n",
       " '2',\n",
       " '4',\n",
       " '6',\n",
       " '4',\n",
       " '4',\n",
       " '0',\n",
       " '0',\n",
       " '4']"
      ]
     },
     "execution_count": 30,
     "metadata": {},
     "output_type": "execute_result"
    }
   ],
   "source": [
    "results"
   ]
  },
  {
   "cell_type": "code",
   "execution_count": 32,
   "id": "5b5091eb",
   "metadata": {},
   "outputs": [
    {
     "data": {
      "text/plain": [
       "[2,\n",
       " 0,\n",
       " 4,\n",
       " 0,\n",
       " 1,\n",
       " 0,\n",
       " 0,\n",
       " 0,\n",
       " 0,\n",
       " 0,\n",
       " 0,\n",
       " 2,\n",
       " 2,\n",
       " 2,\n",
       " 0,\n",
       " 4,\n",
       " 0,\n",
       " 1,\n",
       " 1,\n",
       " 0,\n",
       " 2,\n",
       " 5,\n",
       " 0,\n",
       " 2,\n",
       " 2,\n",
       " 0,\n",
       " 0,\n",
       " 1,\n",
       " 1,\n",
       " 2,\n",
       " 0,\n",
       " 0,\n",
       " 0,\n",
       " 1,\n",
       " 1,\n",
       " 1,\n",
       " 0,\n",
       " 1,\n",
       " 2,\n",
       " 0,\n",
       " 0,\n",
       " 1,\n",
       " 0,\n",
       " 0,\n",
       " 2,\n",
       " 2,\n",
       " 2,\n",
       " 0,\n",
       " 2,\n",
       " 0,\n",
       " 2,\n",
       " 0,\n",
       " 1,\n",
       " 2,\n",
       " 2,\n",
       " 0,\n",
       " 0,\n",
       " 2,\n",
       " 1,\n",
       " 2,\n",
       " 0,\n",
       " 0,\n",
       " 1,\n",
       " 0,\n",
       " 4,\n",
       " 5,\n",
       " 1,\n",
       " 0,\n",
       " 0,\n",
       " 0,\n",
       " 1,\n",
       " 1,\n",
       " 1,\n",
       " 1,\n",
       " 0,\n",
       " 0,\n",
       " 0,\n",
       " 0,\n",
       " 1,\n",
       " 5,\n",
       " 0,\n",
       " 0,\n",
       " 0,\n",
       " 2,\n",
       " 4,\n",
       " 0,\n",
       " 2,\n",
       " 0,\n",
       " 5,\n",
       " 0,\n",
       " 3,\n",
       " 5,\n",
       " 0,\n",
       " 3,\n",
       " 1,\n",
       " 4,\n",
       " 0,\n",
       " 0,\n",
       " 0,\n",
       " 2,\n",
       " 2,\n",
       " 0,\n",
       " 0,\n",
       " 0,\n",
       " 0,\n",
       " 0,\n",
       " 0,\n",
       " 3,\n",
       " 4,\n",
       " 0,\n",
       " 1,\n",
       " 1,\n",
       " 2,\n",
       " 0,\n",
       " 1,\n",
       " 0,\n",
       " 0,\n",
       " 0,\n",
       " 0,\n",
       " 0,\n",
       " 2,\n",
       " 0,\n",
       " 1,\n",
       " 0,\n",
       " 1,\n",
       " 0,\n",
       " 0,\n",
       " 0,\n",
       " 0,\n",
       " 2,\n",
       " 0,\n",
       " 0,\n",
       " 3,\n",
       " 0,\n",
       " 0,\n",
       " 1,\n",
       " 0,\n",
       " 3,\n",
       " 4]"
      ]
     },
     "execution_count": 32,
     "metadata": {},
     "output_type": "execute_result"
    }
   ],
   "source": [
    "test['intent'].to_list()"
   ]
  },
  {
   "cell_type": "code",
   "execution_count": null,
   "id": "412d4488",
   "metadata": {},
   "outputs": [],
   "source": []
  },
  {
   "cell_type": "code",
   "execution_count": 35,
   "id": "799f7537",
   "metadata": {},
   "outputs": [
    {
     "name": "stdout",
     "output_type": "stream",
     "text": [
      "              precision    recall  f1-score   support\n",
      "\n",
      "          -1       0.00      0.00      0.00         0\n",
      "           0       0.58      0.21      0.31        71\n",
      "           1       0.16      0.12      0.13        26\n",
      "           2       0.17      0.04      0.06        25\n",
      "           3       0.00      0.00      0.00         5\n",
      "           4       0.05      0.29      0.09         7\n",
      "           5       0.00      0.00      0.00         5\n",
      "           6       0.00      0.00      0.00         0\n",
      "\n",
      "    accuracy                           0.15       139\n",
      "   macro avg       0.12      0.08      0.07       139\n",
      "weighted avg       0.36      0.15      0.20       139\n",
      "\n"
     ]
    },
    {
     "name": "stderr",
     "output_type": "stream",
     "text": [
      "c:\\Users\\chrif\\Downloads\\synthdata1\\.venv\\Lib\\site-packages\\sklearn\\metrics\\_classification.py:1731: UndefinedMetricWarning: Recall is ill-defined and being set to 0.0 in labels with no true samples. Use `zero_division` parameter to control this behavior.\n",
      "  _warn_prf(average, modifier, f\"{metric.capitalize()} is\", result.shape[0])\n",
      "c:\\Users\\chrif\\Downloads\\synthdata1\\.venv\\Lib\\site-packages\\sklearn\\metrics\\_classification.py:1731: UndefinedMetricWarning: Recall is ill-defined and being set to 0.0 in labels with no true samples. Use `zero_division` parameter to control this behavior.\n",
      "  _warn_prf(average, modifier, f\"{metric.capitalize()} is\", result.shape[0])\n",
      "c:\\Users\\chrif\\Downloads\\synthdata1\\.venv\\Lib\\site-packages\\sklearn\\metrics\\_classification.py:1731: UndefinedMetricWarning: Recall is ill-defined and being set to 0.0 in labels with no true samples. Use `zero_division` parameter to control this behavior.\n",
      "  _warn_prf(average, modifier, f\"{metric.capitalize()} is\", result.shape[0])\n"
     ]
    }
   ],
   "source": [
    "from sklearn.metrics import classification_report\n",
    "\n",
    "\n",
    "print(classification_report(test['intent'].to_list(), [int(i) for i in results]))"
   ]
  },
  {
   "cell_type": "code",
   "execution_count": 20,
   "id": "752c095e",
   "metadata": {},
   "outputs": [
    {
     "data": {
      "text/plain": [
       "'Based on the citation text: \"Our work builds upon the innovative methodology introduced by Smith et al. [14]\"\\n\\n*   **Analysis:** The phrase \"builds upon\" clearly indicates that this research directly extends, develops, or continues the work done by Smith et al. It signifies progression from that specific prior work.\\n*   **Classification:** This matches the definition of **Continuation (4)** - meaning the citing work continues or builds directly on the cited work.\\n\\nTherefore, the citation intent is:\\n**4**'"
      ]
     },
     "execution_count": 20,
     "metadata": {},
     "output_type": "execute_result"
    }
   ],
   "source": [
    "data['5'][-1]['choices'][0]['message']['content']"
   ]
  },
  {
   "cell_type": "code",
   "execution_count": 38,
   "id": "bb952603",
   "metadata": {},
   "outputs": [
    {
     "name": "stdout",
     "output_type": "stream",
     "text": [
      "But their importance has grown far beyond machine translation : for instance , transferring annotations between languages ( @@CITATION ; Hwa et al. 2005 ; Ganchev , Gillenwater , and Taskar 2009 ) ; discovery of paraphrases ( Bannard and Callison-Burch 2005 ) ; and joint unsupervised POS and parser induction across languages ( Snyder and Barzilay 2008 ) .\n",
      "We experiment with four learners commonly employed in language learning : Decision List ( DL ) : We use the DL learner as described in Collins and Singer ( 1999 ) , motivated by its success in the related tasks of word sense disambiguation ( @@CITATION ) and NE classification ( Collins and Singer , 1999 ) .\n",
      "The implementation has been inspired by experience in extracting information from very large corpora ( Curran and Moens , 2002 ) and performing experiments on maximum entropy sequence tagging ( @@CITATION ; Clark et al. , 2003 ) .\n",
      "These keywords are potentially useful features because some of them are subclasses of the ACE SCs shown in the left column of Table 1 , while others appear to be correlated with these ACE SCs .2 ( 6 ) INDUCED CLASS : Since the first-sense heuristic used in the previous feature may not be accurate in capturing the SC of an NP , we employ a corpusbased method for inducing SCs that is motivated by research in lexical semantics ( e.g. , @@CITATION ) .\n",
      "For instance , @@CITATION , p. 8 ) says that the sentence `` Reagan thinks bananas , '' which is otherwise strange , is in fact acceptable if it occurs as an answer to the question `` What is Kissinger 's favorite fruit ? ''\n",
      "And Collins ( 2000 ) argues for `` keeping track of counts of arbitrary fragments within parse trees '' , which has indeed been carried out in @@CITATION who use exactly the same set of ( all ) tree fragments as proposed in Bod ( 1992 ) .\n",
      "Thus rather than a single training procedure , we can actually partition the examples by predicate , and train a 1For a fixed verb , MI is proportional to @@CITATION 's conditional probability scores for pseudodisambiguation of ( v , n , n â² ) triples : Pr ( v | n ) = Pr ( v , n ) / Pr ( n ) , which was shown to be a better measure of association than co-occurrence frequency f ( v , n ) .\n"
     ]
    }
   ],
   "source": [
    "for i in test.iloc:\n",
    "    if(i['intent']==4):\n",
    "        print(i['cleaned_cite_text'])"
   ]
  },
  {
   "cell_type": "code",
   "execution_count": null,
   "id": "415ad0e2",
   "metadata": {},
   "outputs": [],
   "source": []
  }
 ],
 "metadata": {
  "kernelspec": {
   "display_name": "Python 3 (ipykernel)",
   "language": "python",
   "name": "python3"
  },
  "language_info": {
   "codemirror_mode": {
    "name": "ipython",
    "version": 3
   },
   "file_extension": ".py",
   "mimetype": "text/x-python",
   "name": "python",
   "nbconvert_exporter": "python",
   "pygments_lexer": "ipython3",
   "version": "3.12.3"
  }
 },
 "nbformat": 4,
 "nbformat_minor": 5
}
